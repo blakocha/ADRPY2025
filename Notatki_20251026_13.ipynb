{
 "cells": [
  {
   "cell_type": "markdown",
   "metadata": {},
   "source": [
    "# Statystyka opisowa w Python\n",
    "\n",
    "## Analiza rozkładu jednej zmiennej\n",
    "\n",
    "### Miary tendencji centralnej i miary pozycyjne\n",
    "\n",
    "- średnia\n",
    "- mediana\n",
    "- kwantyle (kwartyle, percentyle)\n",
    "\n",
    "### Miary rozproszenia \n",
    "- odchylenie standardowe\n",
    "- IQR (rozstęp międzykwartylowy)\n",
    "\n",
    "### Miary kształtu rozkładu\n",
    "- skośność\n",
    "- kurtoza\n",
    "\n",
    "## Analiza współzależności\n",
    "\n",
    "### Dwie zmienne numeryczne\n",
    "\n",
    "- korelacja Pearsona\n",
    "- korelacja rangowa Spearmana\n",
    "- tau Kendalla\n",
    "\n",
    "### Zmienna numeryczna (lub porządkowa) i zmienna dychotomiczna\n",
    "\n",
    "- d Cohena\n",
    "- AUC\n",
    "\n"
   ]
  },
  {
   "cell_type": "markdown",
   "metadata": {},
   "source": [
    "### Dane z ankiety:"
   ]
  },
  {
   "cell_type": "code",
   "execution_count": 1,
   "metadata": {},
   "outputs": [
    {
     "name": "stdout",
     "output_type": "stream",
     "text": [
      "   height  handedness  right_hand_span  left_hand_span  head_circ eye_colour  \\\n",
      "0     159        0.88             19.0            19.0       54.0       Blue   \n",
      "1     160       -1.00             19.0            20.0       57.0      Green   \n",
      "2     161        0.79             17.0            16.5       57.0      hazel   \n",
      "3     161        1.00             17.0            17.5       54.0       Blue   \n",
      "4     162        0.79             16.0            16.0       57.0       gray   \n",
      "\n",
      "   gender  siblings  movies  soda   bedtime       fb_freq  fb_friends  \\\n",
      "0  Female         2     3.0   7.0  02:00:00    once a day       135.0   \n",
      "1  Female         2     0.5   2.0  04:30:00             0         1.0   \n",
      "2  Female         3     3.0   2.0  23:50:00   once a week       354.0   \n",
      "3  Female         2     2.0   0.5  23:00:00    once a day       200.0   \n",
      "4  Female         2     0.0   2.0  23:10:00  almost never       192.0   \n",
      "\n",
      "                  stat_likert  \n",
      "0  Neither agree nor disagree  \n",
      "1              Somewhat agree  \n",
      "2              Somewhat agree  \n",
      "3  Neither agree nor disagree  \n",
      "4  Neither agree nor disagree  \n"
     ]
    }
   ],
   "source": [
    "import pandas as pd\n",
    "URLCSV = \"https://docs.google.com/spreadsheets/d/1Fuj72q5oIxLK74jBfdvI9pNr5Er2rPONfwh3szMq6-Q/export?format=csv\"\n",
    "dane = pd.read_csv(URLCSV)\n",
    "print(dane.head())"
   ]
  },
  {
   "cell_type": "markdown",
   "metadata": {},
   "source": [
    "# Średnia arytmetyczna\n",
    "Liczba rodzeństwa (plus 1) - tzn. odpowiedź na pytanie: \"Ile dzieci ma Twoja mama\". \n",
    "Movies - liczba godzin poświęconych na oglądanie filmów poprzedniego dnia\n"
   ]
  },
  {
   "cell_type": "code",
   "execution_count": 2,
   "metadata": {},
   "outputs": [
    {
     "name": "stdout",
     "output_type": "stream",
     "text": [
      "Średnia liczba dzieci w rodzinie:\n",
      "2.103896103896104\n"
     ]
    }
   ],
   "source": [
    "import numpy as np\n",
    "print(\"Średnia liczba dzieci w rodzinie:\")\n",
    "print(np.mean(dane['siblings']))"
   ]
  },
  {
   "cell_type": "code",
   "execution_count": 4,
   "metadata": {},
   "outputs": [
    {
     "name": "stdout",
     "output_type": "stream",
     "text": [
      "Średnia liczba godzin poświęconych na oglądanie filmów poprzedzającego dnia:\n",
      "1.3982666666666668\n"
     ]
    }
   ],
   "source": [
    "print(\"Średnia liczba godzin poświęconych na oglądanie filmów poprzedzającego dnia:\")\n",
    "print(np.mean(dane['movies']))"
   ]
  },
  {
   "cell_type": "markdown",
   "metadata": {},
   "source": [
    "# Mediana\n"
   ]
  },
  {
   "cell_type": "code",
   "execution_count": 7,
   "metadata": {},
   "outputs": [
    {
     "name": "stdout",
     "output_type": "stream",
     "text": [
      "Mediana liczby dzieci w rodzinie:\n",
      "2.0\n",
      "Mediana zmiennej movies:\n",
      "nan\n"
     ]
    }
   ],
   "source": [
    "print(\"Mediana liczby dzieci w rodzinie:\")\n",
    "print(np.median(dane['siblings']))\n",
    "print(\"Mediana zmiennej movies:\")\n",
    "print(np.median(dane['movies']))"
   ]
  },
  {
   "cell_type": "code",
   "execution_count": 13,
   "metadata": {},
   "outputs": [
    {
     "name": "stdout",
     "output_type": "stream",
     "text": [
      "W zmiennej movies są dwie wartości NaN (braki danych)\n",
      "2\n"
     ]
    }
   ],
   "source": [
    "print(\"W zmiennej movies są dwie wartości NaN (braki danych)\")\n",
    "print(np.sum(dane['movies'].isna()))"
   ]
  },
  {
   "cell_type": "code",
   "execution_count": 14,
   "metadata": {},
   "outputs": [
    {
     "name": "stdout",
     "output_type": "stream",
     "text": [
      "Mediana zmiennej movies:\n",
      "1.0\n"
     ]
    }
   ],
   "source": [
    "print(\"Mediana zmiennej movies:\")\n",
    "print(np.median(dane['movies'].dropna()))"
   ]
  },
  {
   "cell_type": "markdown",
   "metadata": {},
   "source": [
    "Zadanie: wyznaczyć medianę zmiennej obwód głowy u Pań. "
   ]
  },
  {
   "cell_type": "code",
   "execution_count": 21,
   "metadata": {},
   "outputs": [
    {
     "name": "stdout",
     "output_type": "stream",
     "text": [
      "Mediana obwodu głowy u Pań:\n",
      "55.5\n",
      "Mediana obwodu głowy u Panów:\n",
      "58.0\n"
     ]
    }
   ],
   "source": [
    "mask = (dane['gender']==\"Female\")\n",
    "print(\"Mediana obwodu głowy u Pań:\")\n",
    "print(np.median(dane['head_circ'][mask].dropna()))\n",
    "print(\"Mediana obwodu głowy u Panów:\")\n",
    "print(np.median(dane['head_circ'][~mask].dropna()))"
   ]
  },
  {
   "cell_type": "markdown",
   "metadata": {},
   "source": [
    "## KwaNtyle\n",
    "\n",
    "- KwaRtyle (dzielą grupę na 4)\n",
    "- Decyle (dzielą dane na 10 grup)\n",
    "- Percentyle (... na 100)\n",
    "\n",
    "Mediana dzieli zbiorowość posortowaną 50% / 50%\n",
    "Kwartyl 1 == Percentyl 25: dzieli 25% / 75%\n",
    "Kwartyl 3 == Percentyl 75: dzieli 75% / 25%\n"
   ]
  },
  {
   "cell_type": "code",
   "execution_count": 30,
   "metadata": {},
   "outputs": [
    {
     "name": "stdout",
     "output_type": "stream",
     "text": [
      "Kwartyl pierwszy zmiennej movies:\n",
      "0.5\n",
      "=> W uproszczeniu 25 procent grupy oglądało filmy krócej niż pół godziny\n",
      "Mediana, czyli kwartyl 2, zmiennej movies:\n",
      "1.0\n",
      "Kwartyl trzeci zmiennej movies:\n",
      "2.0\n",
      "=> W uproszczeniu 75 procent grupy oglądało filmy dłużej niż dwie godziny\n"
     ]
    }
   ],
   "source": [
    "# Kwartyle zmiennej movies:\n",
    "# Kwartyl 1 \n",
    "print(\"Kwartyl pierwszy zmiennej movies:\")\n",
    "print(np.quantile(dane['movies'].dropna(), 0.25))\n",
    "print(\"=> W uproszczeniu 25 procent grupy oglądało filmy krócej niż pół godziny\")\n",
    "\n",
    "# Mediana = Kwartyl 2 = Percentyl 50\n",
    "print(\"Mediana, czyli kwartyl 2, zmiennej movies:\")\n",
    "print(np.quantile(dane['movies'].dropna(), 0.5))\n",
    "\n",
    "# Kwartyl 3\n",
    "print(\"Kwartyl trzeci zmiennej movies:\")\n",
    "print(np.quantile(dane['movies'].dropna(), 0.75))\n",
    "print(\"=> W uproszczeniu 25 procent grupy oglądało filmy dłużej niż dwie godziny\")\n"
   ]
  },
  {
   "cell_type": "code",
   "execution_count": 31,
   "metadata": {},
   "outputs": [
    {
     "name": "stdout",
     "output_type": "stream",
     "text": [
      "Kwartyle obwodu głowy u Pań:\n",
      "[54.  55.5 56.5]\n"
     ]
    }
   ],
   "source": [
    "print(\"Kwartyle obwodu głowy u Pań:\")\n",
    "print(np.quantile(dane['head_circ'][mask].dropna(), [0.25, 0.5, 0.75]))"
   ]
  }
 ],
 "metadata": {
  "kernelspec": {
   "display_name": "Python 3",
   "language": "python",
   "name": "python3"
  },
  "language_info": {
   "codemirror_mode": {
    "name": "ipython",
    "version": 3
   },
   "file_extension": ".py",
   "mimetype": "text/x-python",
   "name": "python",
   "nbconvert_exporter": "python",
   "pygments_lexer": "ipython3",
   "version": "3.12.3"
  }
 },
 "nbformat": 4,
 "nbformat_minor": 2
}
