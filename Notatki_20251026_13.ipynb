{
 "cells": [
  {
   "cell_type": "markdown",
   "metadata": {},
   "source": [
    "# Statystyka opisowa w Python\n",
    "\n",
    "## Analiza rozkładu jednej zmiennej\n",
    "\n",
    "### Miary tendencji centralnej i miary pozycyjne\n",
    "\n",
    "- średnia\n",
    "- mediana\n",
    "- kwantyle (kwartyle, percentyle)\n",
    "\n",
    "### Miary rozproszenia \n",
    "- odchylenie standardowe\n",
    "- IQR (rozstęp międzykwartylowy)\n",
    "\n",
    "### Miary kształtu rozkładu\n",
    "- skośność\n",
    "- kurtoza\n",
    "\n",
    "## Analiza współzależności\n",
    "\n",
    "### Dwie zmienne numeryczne\n",
    "\n",
    "- korelacja Pearsona\n",
    "- korelacja rangowa Spearmana\n",
    "- tau Kendalla\n",
    "\n",
    "### Zmienna numeryczna (lub porządkowa) i zmienna dychotomiczna\n",
    "\n",
    "- d Cohena\n",
    "- AUC"
   ]
  }
 ],
 "metadata": {
  "kernelspec": {
   "display_name": "Python 3",
   "language": "python",
   "name": "python3"
  },
  "language_info": {
   "name": "python",
   "version": "3.12.3"
  }
 },
 "nbformat": 4,
 "nbformat_minor": 2
}
