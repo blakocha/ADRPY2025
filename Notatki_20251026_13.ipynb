{
 "cells": [
  {
   "cell_type": "markdown",
   "metadata": {},
   "source": [
    "# Statystyka opisowa w Python\n",
    "\n",
    "## Analiza jednej zmiennej\n",
    "\n",
    "### Miary tendencji centralnej i kwantyle\n",
    "\n",
    "### Miary rozproszenia\n",
    "\n",
    "### Miary kształtu rozkładu\n",
    "\n",
    "## Analiza korelacji\n",
    "\n",
    "### Korelacja dwóch zmiennych ilościowych"
   ]
  }
 ],
 "metadata": {
  "kernelspec": {
   "display_name": "Python 3",
   "language": "python",
   "name": "python3"
  },
  "language_info": {
   "name": "python",
   "version": "3.12.3"
  }
 },
 "nbformat": 4,
 "nbformat_minor": 2
}
