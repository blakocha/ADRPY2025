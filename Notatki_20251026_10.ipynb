{
 "cells": [
  {
   "cell_type": "markdown",
   "metadata": {},
   "source": [
    "# Statystyka opisowa w Python\n",
    "\n",
    "## Analiza rozkładu jednej zmiennej\n",
    "\n",
    "### Miary tendencji centralnej\n",
    "\n",
    "- średnia\n",
    "- mediana\n",
    "- ...\n",
    "\n",
    "### Miary rozproszenia \n",
    "- odchylenie standardowe\n",
    "- ...\n",
    "\n",
    "### Miary kształtu rozkładu\n",
    "- ...\n",
    "\n",
    "## Analiza współzależności\n",
    "\n",
    "### Dwie zmienne numeryczne\n",
    "\n",
    "- korelacja Pearsona\n",
    "- korelacja rangowa Spearmana\n",
    "- tau Kendalla\n",
    "\n",
    "### Zmienna numeryczna (lub porządkowa) i zmienna dychotomiczna\n",
    "\n",
    "- \n",
    "\n"
   ]
  },
  {
   "cell_type": "code",
   "execution_count": 1,
   "metadata": {},
   "outputs": [
    {
     "name": "stdout",
     "output_type": "stream",
     "text": [
      "   height  handedness  right_hand_span  left_hand_span  head_circ eye_colour  \\\n",
      "0     159        0.88             19.0            19.0       54.0       Blue   \n",
      "1     160       -1.00             19.0            20.0       57.0      Green   \n",
      "2     161        0.79             17.0            16.5       57.0      hazel   \n",
      "3     161        1.00             17.0            17.5       54.0       Blue   \n",
      "4     162        0.79             16.0            16.0       57.0       gray   \n",
      "\n",
      "   gender  siblings  movies  soda   bedtime       fb_freq  fb_friends  \\\n",
      "0  Female         2     3.0   7.0  02:00:00    once a day       135.0   \n",
      "1  Female         2     0.5   2.0  04:30:00             0         1.0   \n",
      "2  Female         3     3.0   2.0  23:50:00   once a week       354.0   \n",
      "3  Female         2     2.0   0.5  23:00:00    once a day       200.0   \n",
      "4  Female         2     0.0   2.0  23:10:00  almost never       192.0   \n",
      "\n",
      "                  stat_likert  \n",
      "0  Neither agree nor disagree  \n",
      "1              Somewhat agree  \n",
      "2              Somewhat agree  \n",
      "3  Neither agree nor disagree  \n",
      "4  Neither agree nor disagree  \n"
     ]
    }
   ],
   "source": [
    "import pandas as pd\n",
    "URLCSV = \"https://docs.google.com/spreadsheets/d/1Fuj72q5oIxLK74jBfdvI9pNr5Er2rPONfwh3szMq6-Q/export?format=csv\"\n",
    "dane = pd.read_csv(URLCSV)\n",
    "print(dane.head())"
   ]
  },
  {
   "cell_type": "code",
   "execution_count": 11,
   "metadata": {},
   "outputs": [
    {
     "name": "stdout",
     "output_type": "stream",
     "text": [
      "Średni wzrost - średnia arytmetyczna: \n",
      "175.6103896103896\n",
      "Średni wzrost M - średnia arytmetyczna: \n",
      "181.5681818181818\n",
      "Średni wzrost F - średnia arytmetyczna: \n",
      "167.66666666666666\n",
      "Średnia liczba znajomych na FB - średnia arytmetyczna: \n",
      "342.93150684931504\n"
     ]
    }
   ],
   "source": [
    "import numpy as np\n",
    "\n",
    "# Średni wzrost \n",
    "print(\"Średni wzrost - średnia arytmetyczna: \")\n",
    "print(np.mean(dane['height']))\n",
    "\n",
    "# Średni wzrost mężczyzn\n",
    "mask = (dane['gender']==\"Male\")\n",
    "print(\"Średni wzrost M - średnia arytmetyczna: \")\n",
    "print(np.mean(dane['height'][mask]))\n",
    "\n",
    "# Średni wzrost kobiet\n",
    "maskF = (dane['gender']==\"Female\")\n",
    "print(\"Średni wzrost F - średnia arytmetyczna: \")\n",
    "print(np.mean(dane['height'][maskF]))\n",
    "\n",
    "# Średnia liczba znajomych na FB\n",
    "print(\"Średnia liczba znajomych na FB - średnia arytmetyczna: \")\n",
    "print(np.mean(dane['fb_friends']))"
   ]
  },
  {
   "cell_type": "code",
   "execution_count": 20,
   "metadata": {},
   "outputs": [
    {
     "name": "stdout",
     "output_type": "stream",
     "text": [
      "Mediana wzrostu: \n",
      "176.0\n",
      "Mediana wzrostu - M:\n",
      "180.5\n",
      "Mediana wzrostu - F:\n",
      "166.0\n",
      "Mediana liczby znajomych na FB:\n",
      "280.0\n"
     ]
    }
   ],
   "source": [
    "# Mediana wzrostu \n",
    "print(\"Mediana wzrostu: \")\n",
    "print(np.median(dane['height']))\n",
    "\n",
    "# Mediana wzrostu - M\n",
    "mask = (dane['gender']==\"Male\")\n",
    "print(\"Mediana wzrostu - M:\")\n",
    "print(np.median(dane['height'][mask]))\n",
    "\n",
    "# Mediana wzrostu - F\n",
    "print(\"Mediana wzrostu - F:\")\n",
    "mask2 = (dane['gender']==\"Female\")\n",
    "print(np.median(dane['height'][mask2]))\n",
    "\n",
    "\n",
    "# Mediana fb_friends\n",
    "print(\"Mediana liczby znajomych na FB:\")\n",
    "print(np.median(dane['fb_friends'].dropna()))"
   ]
  },
  {
   "cell_type": "markdown",
   "metadata": {},
   "source": [
    "## Kwantyle: pierwszy kwaRtyl = 25. percentyl\n",
    "## trzeci kwaRtyl = 75. percentyl"
   ]
  },
  {
   "cell_type": "code",
   "execution_count": 26,
   "metadata": {},
   "outputs": [
    {
     "name": "stdout",
     "output_type": "stream",
     "text": [
      "Liczba znajomych na FB - pierwszy kwartyl:\n",
      "121.0\n",
      "Trzeci kwartyl:\n",
      "483.0\n"
     ]
    }
   ],
   "source": [
    "print(\"Liczba znajomych na FB - pierwszy kwartyl:\")\n",
    "print(np.quantile(dane['fb_friends'].dropna(), 0.25))\n",
    "print(\"Trzeci kwartyl:\")\n",
    "print(np.quantile(dane['fb_friends'].dropna(), 0.75))\n"
   ]
  },
  {
   "cell_type": "markdown",
   "metadata": {},
   "source": [
    "## Odchylenie standardowe\n",
    "\n",
    "$ s = \\sqrt{\\frac{1}{n-1}\\sum_{i=1}^{n}(x_i-\\bar{x})^2}$"
   ]
  },
  {
   "cell_type": "code",
   "execution_count": null,
   "metadata": {},
   "outputs": [],
   "source": []
  },
  {
   "cell_type": "code",
   "execution_count": null,
   "metadata": {},
   "outputs": [],
   "source": []
  }
 ],
 "metadata": {
  "kernelspec": {
   "display_name": "Python 3",
   "language": "python",
   "name": "python3"
  },
  "language_info": {
   "codemirror_mode": {
    "name": "ipython",
    "version": 3
   },
   "file_extension": ".py",
   "mimetype": "text/x-python",
   "name": "python",
   "nbconvert_exporter": "python",
   "pygments_lexer": "ipython3",
   "version": "3.12.3"
  }
 },
 "nbformat": 4,
 "nbformat_minor": 2
}
