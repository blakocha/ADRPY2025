{
 "cells": [
  {
   "cell_type": "markdown",
   "metadata": {},
   "source": [
    "# Statystyka opisowa w Python\n",
    "\n",
    "## Analiza rozkładu jednej zmiennej\n",
    "\n",
    "### Miary tendencji centralnej\n",
    "\n",
    "- średnia\n",
    "- mediana\n",
    "- ...\n",
    "\n",
    "### Miary rozproszenia \n",
    "\n",
    "\n"
   ]
  }
 ],
 "metadata": {
  "kernelspec": {
   "display_name": "Python 3",
   "language": "python",
   "name": "python3"
  },
  "language_info": {
   "name": "python",
   "version": "3.12.3"
  }
 },
 "nbformat": 4,
 "nbformat_minor": 2
}
