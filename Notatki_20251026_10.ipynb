{
 "cells": [
  {
   "cell_type": "markdown",
   "metadata": {},
   "source": [
    "# Statystyka opisowa w Python\n",
    "\n",
    "## Analiza rozkładu jednej zmiennej\n",
    "\n",
    "### Miary tendencji centralnej i miary pozycyjne\n",
    "\n",
    "- średnia\n",
    "- mediana\n",
    "- kwantyle (kwartyle, percentyle)\n",
    "\n",
    "### Miary rozproszenia \n",
    "- odchylenie standardowe\n",
    "- IQR (rozstęp międzykwartylowy)\n",
    "\n",
    "### Miary kształtu rozkładu\n",
    "- skośność\n",
    "- kurtoza\n",
    "\n",
    "## Analiza współzależności\n",
    "\n",
    "### Dwie zmienne numeryczne\n",
    "\n",
    "- korelacja Pearsona\n",
    "- korelacja rangowa Spearmana\n",
    "- tau Kendalla\n",
    "\n",
    "### Zmienna numeryczna (lub porządkowa) i zmienna dychotomiczna\n",
    "\n",
    "- d Cohena\n",
    "\n"
   ]
  },
  {
   "cell_type": "markdown",
   "metadata": {},
   "source": [
    "## Przykładowe dane - import z google sheets"
   ]
  },
  {
   "cell_type": "code",
   "execution_count": 1,
   "metadata": {},
   "outputs": [
    {
     "name": "stdout",
     "output_type": "stream",
     "text": [
      "   height  handedness  right_hand_span  left_hand_span  head_circ eye_colour  \\\n",
      "0     159        0.88             19.0            19.0       54.0       Blue   \n",
      "1     160       -1.00             19.0            20.0       57.0      Green   \n",
      "2     161        0.79             17.0            16.5       57.0      hazel   \n",
      "3     161        1.00             17.0            17.5       54.0       Blue   \n",
      "4     162        0.79             16.0            16.0       57.0       gray   \n",
      "\n",
      "   gender  siblings  movies  soda   bedtime       fb_freq  fb_friends  \\\n",
      "0  Female         2     3.0   7.0  02:00:00    once a day       135.0   \n",
      "1  Female         2     0.5   2.0  04:30:00             0         1.0   \n",
      "2  Female         3     3.0   2.0  23:50:00   once a week       354.0   \n",
      "3  Female         2     2.0   0.5  23:00:00    once a day       200.0   \n",
      "4  Female         2     0.0   2.0  23:10:00  almost never       192.0   \n",
      "\n",
      "                  stat_likert  \n",
      "0  Neither agree nor disagree  \n",
      "1              Somewhat agree  \n",
      "2              Somewhat agree  \n",
      "3  Neither agree nor disagree  \n",
      "4  Neither agree nor disagree  \n"
     ]
    }
   ],
   "source": [
    "import pandas as pd\n",
    "URLCSV = \"https://docs.google.com/spreadsheets/d/1Fuj72q5oIxLK74jBfdvI9pNr5Er2rPONfwh3szMq6-Q/export?format=csv\"\n",
    "dane = pd.read_csv(URLCSV)\n",
    "print(dane.head())"
   ]
  },
  {
   "cell_type": "markdown",
   "metadata": {},
   "source": [
    "## Średnia arytmetyczna"
   ]
  },
  {
   "cell_type": "code",
   "execution_count": 11,
   "metadata": {},
   "outputs": [
    {
     "name": "stdout",
     "output_type": "stream",
     "text": [
      "Średni wzrost - średnia arytmetyczna: \n",
      "175.6103896103896\n",
      "Średni wzrost M - średnia arytmetyczna: \n",
      "181.5681818181818\n",
      "Średni wzrost F - średnia arytmetyczna: \n",
      "167.66666666666666\n",
      "Średnia liczba znajomych na FB - średnia arytmetyczna: \n",
      "342.93150684931504\n"
     ]
    }
   ],
   "source": [
    "import numpy as np\n",
    "\n",
    "# Średni wzrost \n",
    "print(\"Średni wzrost - średnia arytmetyczna: \")\n",
    "print(np.mean(dane['height']))\n",
    "\n",
    "# Średni wzrost mężczyzn\n",
    "mask = (dane['gender']==\"Male\")\n",
    "print(\"Średni wzrost M - średnia arytmetyczna: \")\n",
    "print(np.mean(dane['height'][mask]))\n",
    "\n",
    "# Średni wzrost kobiet\n",
    "maskF = (dane['gender']==\"Female\")\n",
    "print(\"Średni wzrost F - średnia arytmetyczna: \")\n",
    "print(np.mean(dane['height'][maskF]))\n",
    "\n",
    "# Średnia liczba znajomych na FB\n",
    "print(\"Średnia liczba znajomych na FB - średnia arytmetyczna: \")\n",
    "print(np.mean(dane['fb_friends']))"
   ]
  },
  {
   "cell_type": "markdown",
   "metadata": {},
   "source": [
    "## Mediana"
   ]
  },
  {
   "cell_type": "code",
   "execution_count": 20,
   "metadata": {},
   "outputs": [
    {
     "name": "stdout",
     "output_type": "stream",
     "text": [
      "Mediana wzrostu: \n",
      "176.0\n",
      "Mediana wzrostu - M:\n",
      "180.5\n",
      "Mediana wzrostu - F:\n",
      "166.0\n",
      "Mediana liczby znajomych na FB:\n",
      "280.0\n"
     ]
    }
   ],
   "source": [
    "# Mediana wzrostu \n",
    "print(\"Mediana wzrostu: \")\n",
    "print(np.median(dane['height']))\n",
    "\n",
    "# Mediana wzrostu - M\n",
    "mask = (dane['gender']==\"Male\")\n",
    "print(\"Mediana wzrostu - M:\")\n",
    "print(np.median(dane['height'][mask]))\n",
    "\n",
    "# Mediana wzrostu - F\n",
    "print(\"Mediana wzrostu - F:\")\n",
    "mask2 = (dane['gender']==\"Female\")\n",
    "print(np.median(dane['height'][mask2]))\n",
    "\n",
    "\n",
    "# Mediana fb_friends\n",
    "print(\"Mediana liczby znajomych na FB:\")\n",
    "print(np.median(dane['fb_friends'].dropna()))"
   ]
  },
  {
   "cell_type": "markdown",
   "metadata": {},
   "source": [
    "## Kwantyle: \n",
    "\n",
    "KwaNtyle to np. kwartyle, kwintyle, decyle, percentyle. \n",
    "\n",
    "- pierwszy kwaRtyl = 25. percentyl\n",
    "- trzeci kwaRtyl = 75. percentyl"
   ]
  },
  {
   "cell_type": "code",
   "execution_count": 26,
   "metadata": {},
   "outputs": [
    {
     "name": "stdout",
     "output_type": "stream",
     "text": [
      "Liczba znajomych na FB - pierwszy kwartyl:\n",
      "121.0\n",
      "Trzeci kwartyl:\n",
      "483.0\n"
     ]
    }
   ],
   "source": [
    "print(\"Liczba znajomych na FB - pierwszy kwartyl:\")\n",
    "print(np.quantile(dane['fb_friends'].dropna(), 0.25))\n",
    "print(\"Trzeci kwartyl:\")\n",
    "print(np.quantile(dane['fb_friends'].dropna(), 0.75))\n"
   ]
  },
  {
   "cell_type": "markdown",
   "metadata": {},
   "source": [
    "Liczba znajomych na Facebooku: histogram. "
   ]
  },
  {
   "cell_type": "code",
   "execution_count": 27,
   "metadata": {},
   "outputs": [
    {
     "data": {
      "text/plain": [
       "<function matplotlib.pyplot.show(close=None, block=None)>"
      ]
     },
     "execution_count": 27,
     "metadata": {},
     "output_type": "execute_result"
    },
    {
     "data": {
      "image/png": "[encoded data removed]",
      "text/plain": [
       "<Figure size 640x480 with 1 Axes>"
      ]
     },
     "metadata": {},
     "output_type": "display_data"
    }
   ],
   "source": [
    "from matplotlib import pyplot as plt\n",
    "\n",
    "plt.hist(dane['fb_friends'].dropna())\n",
    "plt.show"
   ]
  },
  {
   "cell_type": "markdown",
   "metadata": {},
   "source": [
    "## Odchylenie standardowe\n",
    "\n",
    "Wzór \"dla próbki\" (z n-1):\n",
    "\n",
    "$ s = \\sqrt{\\frac{1}{n-1}\\sum_{i=1}^{n}(x_i-\\bar{x})^2}$"
   ]
  },
  {
   "cell_type": "code",
   "execution_count": 34,
   "metadata": {},
   "outputs": [
    {
     "name": "stdout",
     "output_type": "stream",
     "text": [
      "Odchylenie standardowe wzrostu\n",
      "9.814269745410513\n",
      "Odchylenie standardowe wzrostu - M\n",
      "7.854483913508813\n",
      "Odchylenie standardowe wzrostu - F\n",
      "5.655012525774516\n",
      "Odchylenie standardowe wzrostu - fb_friends\n",
      "307.38002757928547\n"
     ]
    }
   ],
   "source": [
    "# ddof=1, żeby mieć zgodnośc z powyższym wzorem (n-1). \n",
    "print(\"Odchylenie standardowe wzrostu:\")\n",
    "print(np.std(dane['height'], ddof=1))\n",
    "\n",
    "print(\"Odchylenie standardowe wzrostu - M:\")\n",
    "mask = (dane['gender']==\"Male\")\n",
    "print(np.std(dane['height'][mask], ddof=1))\n",
    "\n",
    "print(\"Odchylenie standardowe wzrostu - F:\")\n",
    "mask = (dane['gender']==\"Female\")\n",
    "print(np.std(dane['height'][mask], ddof=1))\n",
    "\n",
    "print(\"Odchylenie standardowe wzrostu - fb_friends:\")\n",
    "print(np.std(dane['fb_friends'].dropna(), ddof=1))\n",
    "\n"
   ]
  },
  {
   "cell_type": "markdown",
   "metadata": {},
   "source": [
    "## IQR (rozstęp międzykwartylowy)\n",
    "\n",
    "$\\text{IQR} = Q_3 - Q_1$ "
   ]
  },
  {
   "cell_type": "code",
   "execution_count": 36,
   "metadata": {},
   "outputs": [
    {
     "data": {
      "text/plain": [
       "np.float64(362.0)"
      ]
     },
     "execution_count": 36,
     "metadata": {},
     "output_type": "execute_result"
    }
   ],
   "source": [
    "from scipy.stats import iqr\n",
    "\n",
    "iqr(dane['fb_friends'].dropna())"
   ]
  },
  {
   "cell_type": "markdown",
   "metadata": {},
   "source": [
    "## Skośność \n",
    "\n",
    "- [współczynnik skośności](https://pl.wikipedia.org/wiki/Wsp%C3%B3%C5%82czynnik_sko%C5%9Bno%C5%9Bci)\n",
    "\n",
    "\"Współczynnik skośności przyjmuje wartość zero dla rozkładu symetrycznego, wartości ujemne dla rozkładów o lewostronnej asymetrii (wydłużone lewe ramię rozkładu) i wartości dodatnie dla rozkładów o prawostronnej asymetrii (wydłużone prawe ramię rozkładu).\""
   ]
  },
  {
   "cell_type": "code",
   "execution_count": 40,
   "metadata": {},
   "outputs": [
    {
     "name": "stdout",
     "output_type": "stream",
     "text": [
      "Zmienna height - skośność\n",
      "0.393563241265341\n",
      "Zmienna fb_friends - skośność\n",
      "1.2792423723717934\n"
     ]
    }
   ],
   "source": [
    "from scipy.stats import skew\n",
    "\n",
    "print(\"Zmienna height - skośność\") \n",
    "print(skew(dane['height']))\n",
    "\n",
    "print(\"Zmienna fb_friends - skośność\") \n",
    "print(skew(dane['fb_friends'].dropna()))\n"
   ]
  },
  {
   "cell_type": "markdown",
   "metadata": {},
   "source": [
    "## Kurtoza\n",
    "\n",
    "Kurtoza mierzy ekstremalność ogonów rozkładu (im więcej lub im silniejsze wartości odstające, tym wyższa kurtoza). [Kurtoza nie mierzy spiczatstości rozkładu (koncentracji wokół średniej)](https://ws.stat.gov.pl/Article/2022/11/043-061)."
   ]
  },
  {
   "cell_type": "code",
   "execution_count": 42,
   "metadata": {},
   "outputs": [
    {
     "name": "stdout",
     "output_type": "stream",
     "text": [
      "Zmienna height - kurtoza\n",
      "-0.27040889080278685\n",
      "Zmienna height - kurtoza\n",
      "1.4144462677705505\n"
     ]
    }
   ],
   "source": [
    "from scipy.stats import kurtosis\n",
    "\n",
    "print(\"Zmienna height - kurtoza:\") \n",
    "print(kurtosis(dane['height']))\n",
    "\n",
    "print(\"Zmienna height - kurtoza:\") \n",
    "print(kurtosis(dane['fb_friends'].dropna()))\n"
   ]
  },
  {
   "cell_type": "markdown",
   "metadata": {},
   "source": [
    "## Współczynnik korelacji Pearsona\n"
   ]
  },
  {
   "cell_type": "code",
   "execution_count": 44,
   "metadata": {},
   "outputs": [
    {
     "data": {
      "text/plain": [
       "np.float64(-0.021741585290315824)"
      ]
     },
     "execution_count": 44,
     "metadata": {},
     "output_type": "execute_result"
    }
   ],
   "source": [
    "#Pandas\n",
    "dane['handedness'].corr(dane['fb_friends'])\n",
    "\n"
   ]
  },
  {
   "cell_type": "code",
   "execution_count": 46,
   "metadata": {},
   "outputs": [
    {
     "data": {
      "text/plain": [
       "np.float64(-0.021741585290315824)"
      ]
     },
     "execution_count": 46,
     "metadata": {},
     "output_type": "execute_result"
    }
   ],
   "source": [
    "#NumPy\n",
    "mask = (dane['handedness'].notna() & dane['fb_friends'].notna())\n",
    "np.corrcoef(dane['handedness'][mask], dane['fb_friends'][mask])[0,1]"
   ]
  },
  {
   "cell_type": "code",
   "execution_count": 49,
   "metadata": {},
   "outputs": [
    {
     "data": {
      "text/plain": [
       "PearsonRResult(statistic=np.float64(-0.021741585290315786), pvalue=np.float64(0.8613671723445717))"
      ]
     },
     "execution_count": 49,
     "metadata": {},
     "output_type": "execute_result"
    }
   ],
   "source": [
    "#scipy\n",
    "from scipy.stats import pearsonr\n",
    "\n",
    "pearsonr(dane['handedness'][mask], dane['fb_friends'][mask])"
   ]
  },
  {
   "cell_type": "markdown",
   "metadata": {},
   "source": [
    "## Współczynnik korelacji Spearmana (na rangach)\n",
    "\n",
    "Algorytm: zamieniamy X i Y na rangi (najmniejsza obserwacja = 1, kolejna = 2)\n",
    "Liczymy korelację Pearsona na rangach. \n"
   ]
  },
  {
   "cell_type": "code",
   "execution_count": 53,
   "metadata": {},
   "outputs": [
    {
     "data": {
      "text/plain": [
       "np.float64(0.16834103128343847)"
      ]
     },
     "execution_count": 53,
     "metadata": {},
     "output_type": "execute_result"
    }
   ],
   "source": [
    "# fb_friends i height\n",
    "\n",
    "dane['fb_friends'].rank().corr(dane['height'].rank())"
   ]
  },
  {
   "cell_type": "code",
   "execution_count": 60,
   "metadata": {},
   "outputs": [
    {
     "data": {
      "text/plain": [
       "np.float64(-0.06535081200433951)"
      ]
     },
     "execution_count": 60,
     "metadata": {},
     "output_type": "execute_result"
    }
   ],
   "source": [
    "dane['stat2'] = pd.Categorical(dane['stat_likert'], \n",
    "               categories =[\"Strongly disagree\", \"Somewhat disagree\",\n",
    "                            \"Neither agree nor disagree\", \"Somewhat agree\",\n",
    "                             \"Strongly agree\"], ordered=True)\n",
    "\n",
    "dane['stat2'].rank().corr(dane['head_circ'].rank())"
   ]
  },
  {
   "cell_type": "code",
   "execution_count": 61,
   "metadata": {},
   "outputs": [
    {
     "data": {
      "text/plain": [
       "SignificanceResult(statistic=np.float64(0.16329349981555188), pvalue=np.float64(0.16746820174770358))"
      ]
     },
     "execution_count": 61,
     "metadata": {},
     "output_type": "execute_result"
    }
   ],
   "source": [
    "mask = (dane['fb_friends'].notna() & dane['height'].notna())\n",
    "from scipy.stats import spearmanr\n",
    "spearmanr(dane['fb_friends'][mask], dane['height'][mask])\n"
   ]
  },
  {
   "cell_type": "code",
   "execution_count": 62,
   "metadata": {},
   "outputs": [
    {
     "data": {
      "text/plain": [
       "SignificanceResult(statistic=np.float64(0.009147901909002132), pvalue=np.float64(0.9374864307852322))"
      ]
     },
     "execution_count": 62,
     "metadata": {},
     "output_type": "execute_result"
    }
   ],
   "source": [
    "mask = (dane['stat2'].notna() & dane['head_circ'].notna())\n",
    "spearmanr(dane['stat2'][mask], dane['head_circ'][mask])"
   ]
  },
  {
   "cell_type": "code",
   "execution_count": 63,
   "metadata": {},
   "outputs": [
    {
     "data": {
      "text/plain": [
       "SignificanceResult(statistic=np.float64(0.11459817105617567), pvalue=np.float64(0.1592551652829699))"
      ]
     },
     "execution_count": 63,
     "metadata": {},
     "output_type": "execute_result"
    }
   ],
   "source": [
    "mask = (dane['fb_friends'].notna() & dane['height'].notna())\n",
    "from scipy.stats import kendalltau\n",
    "kendalltau(dane['fb_friends'][mask], dane['height'][mask])"
   ]
  },
  {
   "cell_type": "markdown",
   "metadata": {},
   "source": [
    "## Miara d Cohena\n",
    "\n",
    "różnica między średnimi w dwóch grupach odniesiona do zbiorczego odchylenia standardowego (wypadkowa odchyleń standardowych w dwóch grupach)\n",
    "\n"
   ]
  },
  {
   "cell_type": "code",
   "execution_count": 64,
   "metadata": {},
   "outputs": [],
   "source": [
    "def cohen_d(x,y):\n",
    "    nx = len(x)\n",
    "    ny = len(y)\n",
    "    dof = nx + ny - 2\n",
    "    return (np.mean(x) - np.mean(y)) / np.sqrt(((nx-1)*np.std(x, ddof=1) ** 2 + (ny-1)*np.std(y, ddof=1) ** 2) / dof)\n"
   ]
  },
  {
   "cell_type": "code",
   "execution_count": 68,
   "metadata": {},
   "outputs": [
    {
     "name": "stdout",
     "output_type": "stream",
     "text": [
      "d Cohena między płciami dla wzrostu:\n",
      "1.985625813717499\n",
      "d Cohena między płciami dla rozmiaru lewej ręki:\n",
      "1.6560604573390825\n",
      "d Cohena między płciami dla rozmiaru głowy:\n",
      "1.74495576044045\n"
     ]
    }
   ],
   "source": [
    "print(\"d Cohena między płciami dla wzrostu:\")\n",
    "print(cohen_d(dane['height'][dane['gender']==\"Male\"], \n",
    "              dane['height'][dane['gender']==\"Female\"]))\n",
    "\n",
    "print(\"d Cohena między płciami dla rozmiaru lewej ręki:\")\n",
    "print(cohen_d(dane['left_hand_span'][dane['gender']==\"Male\"], \n",
    "              dane['left_hand_span'][dane['gender']==\"Female\"]))\n",
    "\n",
    "\n",
    "print(\"d Cohena między płciami dla rozmiaru głowy:\")\n",
    "print(cohen_d(dane['head_circ'][dane['gender']==\"Male\"], \n",
    "              dane['head_circ'][dane['gender']==\"Female\"]))\n"
   ]
  },
  {
   "cell_type": "markdown",
   "metadata": {},
   "source": [
    "## Prawdopodobieństwo przewagi (probability of superiority)\n",
    "Common Language Effect Size\n",
    "AUC\n",
    "\n",
    "Gdy nie ma korelacji, miara wynosi 0.5. "
   ]
  },
  {
   "cell_type": "code",
   "execution_count": 74,
   "metadata": {},
   "outputs": [
    {
     "data": {
      "text/plain": [
       "0.9287190082644627"
      ]
     },
     "execution_count": 74,
     "metadata": {},
     "output_type": "execute_result"
    }
   ],
   "source": [
    "from sklearn import metrics\n",
    "y_true = (dane['gender']==\"Male\")\n",
    "y_score = (dane['height'])\n",
    "fpr, tpr, thresholds = metrics.roc_curve(y_true, y_score)\n",
    "metrics.auc(fpr, tpr)"
   ]
  },
  {
   "cell_type": "code",
   "execution_count": 76,
   "metadata": {},
   "outputs": [
    {
     "data": {
      "text/plain": [
       "0.8780831571529245"
      ]
     },
     "execution_count": 76,
     "metadata": {},
     "output_type": "execute_result"
    }
   ],
   "source": [
    "from sklearn import metrics\n",
    "mask = dane['left_hand_span'].notna()\n",
    "y_true = (dane['gender']==\"Male\")[mask]\n",
    "y_score = (dane['left_hand_span'])[mask]\n",
    "fpr, tpr, thresholds = metrics.roc_curve(y_true, y_score)\n",
    "metrics.auc(fpr, tpr)"
   ]
  },
  {
   "cell_type": "markdown",
   "metadata": {},
   "source": [
    "W bankowości używamy AUC po przekształceniu. \n",
    "(miara jest znana pod różnymi nazwami: D Sommersa, delta Cliffa, korelacja rangowo-dwuseryjna, (pseudo)współczynnik Giniego)\n",
    "\n",
    "Taka miara wynosi 0, gdy nie ma korelacji. \n",
    "\n",
    "$ D = 2 \\cdot \\text{AUC} - 1$\n"
   ]
  }
 ],
 "metadata": {
  "kernelspec": {
   "display_name": "Python 3",
   "language": "python",
   "name": "python3"
  },
  "language_info": {
   "codemirror_mode": {
    "name": "ipython",
    "version": 3
   },
   "file_extension": ".py",
   "mimetype": "text/x-python",
   "name": "python",
   "nbconvert_exporter": "python",
   "pygments_lexer": "ipython3",
   "version": "3.12.3"
  }
 },
 "nbformat": 4,
 "nbformat_minor": 2
}
